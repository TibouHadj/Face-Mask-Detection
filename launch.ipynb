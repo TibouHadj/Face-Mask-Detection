{
 "cells": [
  {
   "cell_type": "code",
   "execution_count": 9,
   "id": "egyptian-cylinder",
   "metadata": {},
   "outputs": [],
   "source": [
    "import cv2\n",
    "import numpy as np\n",
    "import tensorflow as tf"
   ]
  },
  {
   "cell_type": "code",
   "execution_count": 10,
   "id": "structured-climb",
   "metadata": {},
   "outputs": [],
   "source": [
    "category2label = {0: 'without', 1: 'with', 2: 'incorrect'} \n",
    "img_size=100;"
   ]
  },
  {
   "cell_type": "code",
   "execution_count": 11,
   "id": "convinced-witness",
   "metadata": {},
   "outputs": [],
   "source": [
    "model = tf.keras.models.load_model(\"mymodel.h5\")"
   ]
  },
  {
   "cell_type": "code",
   "execution_count": 12,
   "id": "private-arlington",
   "metadata": {},
   "outputs": [],
   "source": [
    "colors = {0: (0, 0, 255), 1: (0, 255, 0), 2: (0, 255, 255)} # les codes couleurs\n",
    "\n",
    "# Le classifieur du détection du visage\n",
    "face_cascade = cv2.CascadeClassifier('haarcascade_frontalface_default.xml')\n",
    "\n",
    "# Vidéo du webcam\n",
    "cap = cv2.VideoCapture(1)\n",
    "if not cap.isOpened():\n",
    "    cap=cv2.VideoCapture(0)\n",
    "if not cap.isOpened():\n",
    "    print('ERROR')\n",
    "    \n",
    "    \n",
    "while cap.isOpened():\n",
    "    ret, frame = cap.read()\n",
    "    \n",
    "    if not ret:\n",
    "        break\n",
    "        \n",
    "    gray=cv2.cvtColor(frame,cv2.COLOR_BGR2GRAY) # convertir la frame en nuage_de_gris\n",
    "    \n",
    "    faces = face_cascade.detectMultiScale(gray, 1.2, 4) # détecter les visages dans la frame\n",
    "    \n",
    "    for (x, y, w, h) in faces:\n",
    "        roi =  frame[y: y+h+100, x-30 : x+w+100]\n",
    "        data = cv2.resize(cv2.cvtColor(roi, cv2.COLOR_BGR2RGB), (img_size,img_size))\n",
    "        data = data / 255.\n",
    "        data = data.reshape((1,) + data.shape)\n",
    "        scores = model.predict(data)\n",
    "        print(scores)\n",
    "        target = np.argmax(scores, axis=1)[0]\n",
    "        if scores[0,target] >0.7: \n",
    "            # Dessiner les boxes\n",
    "            cv2.rectangle(img=frame, pt1=(x-30, y), pt2=(x+w+100, y+h+100), color=colors[target], thickness=2)\n",
    "            text = \"{}: {:.2f}\".format(category2label[target]+\" mask\", scores[0][target])\n",
    "            cv2.putText(frame, text, (x, y-5), cv2.FONT_HERSHEY_SIMPLEX, 0.6, (255, 255, 255), 1)\n",
    "\n",
    "    # Afficher le résultat\n",
    "    cv2.imshow('Face Mask Detection', frame)\n",
    "\n",
    "    if cv2.waitKey(2) & 0xFF == ord('q'): # entrer la touche q pour quitter\n",
    "        break\n",
    "\n",
    "cap.release()\n",
    "cv2.destroyAllWindows()"
   ]
  },
  {
   "cell_type": "code",
   "execution_count": 26,
   "id": "romance-bulgaria",
   "metadata": {},
   "outputs": [
    {
     "name": "stdout",
     "output_type": "stream",
     "text": [
      "[[314 154 199 199]]\n"
     ]
    }
   ],
   "source": [
    "print(faces)"
   ]
  },
  {
   "cell_type": "code",
   "execution_count": 13,
   "id": "continuing-israeli",
   "metadata": {},
   "outputs": [
    {
     "data": {
      "text/plain": [
       "()"
      ]
     },
     "execution_count": 13,
     "metadata": {},
     "output_type": "execute_result"
    }
   ],
   "source": [
    "detected_profiles"
   ]
  },
  {
   "cell_type": "code",
   "execution_count": 30,
   "id": "nearby-lender",
   "metadata": {},
   "outputs": [
    {
     "data": {
      "text/plain": [
       "array([[314, 154, 199, 199],\n",
       "       [ 43, 171, 252, 252]], dtype=int32)"
      ]
     },
     "execution_count": 30,
     "metadata": {},
     "output_type": "execute_result"
    }
   ],
   "source": [
    "np.concatenate((faces,detected_profiles),axis=0)"
   ]
  },
  {
   "cell_type": "code",
   "execution_count": 28,
   "id": "irish-alarm",
   "metadata": {},
   "outputs": [
    {
     "data": {
      "text/plain": [
       "array([314, 154, 199, 199,  43, 171, 252, 252], dtype=int32)"
      ]
     },
     "execution_count": 28,
     "metadata": {},
     "output_type": "execute_result"
    }
   ],
   "source": [
    "np.append(faces,detected_profiles)"
   ]
  },
  {
   "cell_type": "code",
   "execution_count": 54,
   "id": "serial-volunteer",
   "metadata": {},
   "outputs": [
    {
     "data": {
      "text/plain": [
       "2"
      ]
     },
     "execution_count": 54,
     "metadata": {},
     "output_type": "execute_result"
    }
   ],
   "source": [
    "len(faces)"
   ]
  },
  {
   "cell_type": "code",
   "execution_count": 65,
   "id": "invalid-suicide",
   "metadata": {},
   "outputs": [
    {
     "data": {
      "text/plain": [
       "array(0.)"
      ]
     },
     "execution_count": 65,
     "metadata": {},
     "output_type": "execute_result"
    }
   ],
   "source": [
    "np.empty(shape=None)"
   ]
  },
  {
   "cell_type": "code",
   "execution_count": 66,
   "id": "silent-miller",
   "metadata": {},
   "outputs": [
    {
     "data": {
      "text/plain": [
       "tuple"
      ]
     },
     "execution_count": 66,
     "metadata": {},
     "output_type": "execute_result"
    }
   ],
   "source": [
    "frontal_faces"
   ]
  },
  {
   "cell_type": "code",
   "execution_count": 67,
   "id": "robust-tanzania",
   "metadata": {},
   "outputs": [
    {
     "data": {
      "text/plain": [
       "tuple"
      ]
     },
     "execution_count": 67,
     "metadata": {},
     "output_type": "execute_result"
    }
   ],
   "source": [
    "type(detected_profiles)"
   ]
  },
  {
   "cell_type": "code",
   "execution_count": 77,
   "id": "tropical-difference",
   "metadata": {},
   "outputs": [
    {
     "data": {
      "text/plain": [
       "()"
      ]
     },
     "execution_count": 77,
     "metadata": {},
     "output_type": "execute_result"
    }
   ],
   "source": [
    "detected_profiles"
   ]
  },
  {
   "cell_type": "code",
   "execution_count": null,
   "id": "matched-biodiversity",
   "metadata": {},
   "outputs": [],
   "source": []
  }
 ],
 "metadata": {
  "kernelspec": {
   "display_name": "Python 3",
   "language": "python",
   "name": "python3"
  },
  "language_info": {
   "codemirror_mode": {
    "name": "ipython",
    "version": 3
   },
   "file_extension": ".py",
   "mimetype": "text/x-python",
   "name": "python",
   "nbconvert_exporter": "python",
   "pygments_lexer": "ipython3",
   "version": "3.8.5"
  }
 },
 "nbformat": 4,
 "nbformat_minor": 5
}
