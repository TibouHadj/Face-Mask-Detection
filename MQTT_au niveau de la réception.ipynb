{
 "cells": [
  {
   "cell_type": "code",
   "execution_count": 2,
   "metadata": {},
   "outputs": [
    {
     "name": "stderr",
     "output_type": "stream",
     "text": [
      "INFO:root:DisConnected result code 1\n",
      "INFO:root:Connected flags{'session present': 1}result code 0\n",
      "INFO:root:DisConnected result code 0\n",
      "INFO:root:Connected flags{'session present': 1}result code 0\n"
     ]
    }
   ],
   "source": [
    "import paho.mqtt.client as mqtt\n",
    "import matplotlib.pyplot as plt\n",
    "import seaborn as sns\n",
    "import time,logging\n",
    "broker=\"test.mosquitto.org\"\n",
    "home_topic=\"PC_TAIEB\"\n",
    "port=1883\n",
    "QOS=0\n",
    "\n",
    "CLEAN_SESSION=True\n",
    "\n",
    "logging.basicConfig(level=logging.INFO) #error logging\n",
    "\n",
    "\n",
    "def on_subscribe(client, userdata, mid, granted_qos):   #create function for callback\n",
    "   #print(\"subscribed with qos\",granted_qos, \"\\n\")\n",
    "   time.sleep(1)\n",
    "   logging.info(\"sub acknowledge message id=\"+str(mid))\n",
    "   pass\n",
    "\n",
    "def on_disconnect(client, userdata,rc=0):\n",
    "    logging.info(\"DisConnected result code \"+str(rc))\n",
    "\n",
    "\n",
    "def on_connect(client, userdata, flags, rc):\n",
    "    logging.info(\"Connected flags\"+str(flags)+\"result code \"+str(rc))\n",
    "\n",
    "x=[]\n",
    "\n",
    "def on_message(client, userdata, message):\n",
    "    msg=str(message.payload.decode(\"utf-8\"))\n",
    "    x.append(msg.split(\":\")[0])\n",
    "    sns.countplot(x)\n",
    "    plt.show()\n",
    "    \n",
    "def on_publish(client, userdata, mid):\n",
    "    logging.info(\"message published \"  +str(mid))\n",
    "\n",
    "send_topic =\"house/client_a/\" +home_topic\n",
    "client= mqtt.Client(\"ClientB\",False)       #create client object\n",
    "client.on_subscribe = on_subscribe   #assign function to callback\n",
    "client.on_disconnect = on_disconnect #assign function to callback\n",
    "client.on_connect = on_connect #assign function to callback\n",
    "client.on_message=on_message\n",
    "client.connect(broker,port) #establish connection\n",
    "time.sleep(1)\n",
    "client.loop_start()\n",
    "client.subscribe(\"house/#\")\n",
    "\n",
    "client.disconnect()\n",
    "\n",
    "client.loop_stop()\n",
    "\n"
   ]
  }
 ],
 "metadata": {
  "kernelspec": {
   "display_name": "Python 3",
   "language": "python",
   "name": "python3"
  }
 },
 "nbformat": 4,
 "nbformat_minor": 4
}
